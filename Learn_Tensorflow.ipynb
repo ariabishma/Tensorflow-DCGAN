{
  "nbformat": 4,
  "nbformat_minor": 0,
  "metadata": {
    "accelerator": "GPU",
    "colab": {
      "name": "Learn Tensorflow.ipynb",
      "provenance": [],
      "collapsed_sections": [],
      "toc_visible": true
    },
    "kernelspec": {
      "display_name": "Python 3",
      "name": "python3"
    }
  },
  "cells": [
    {
      "cell_type": "markdown",
      "metadata": {
        "id": "YQud1OA9eDAq"
      },
      "source": [
        "# Deep Convolutional Generative Adversarial Network\n",
        "\n",
        "---\n",
        "\n"
      ]
    },
    {
      "cell_type": "code",
      "metadata": {
        "colab": {
          "base_uri": "https://localhost:8080/"
        },
        "id": "Xj60ui5AeGgS",
        "outputId": "af3ceb59-de1b-46c1-b2e0-27c675d19642"
      },
      "source": [
        "!pip install -q imageio\n",
        "!pip install -q git+https://github.com/tensorflow/docs"
      ],
      "execution_count": null,
      "outputs": [
        {
          "output_type": "stream",
          "text": [
            "\u001b[?25l\r\u001b[K     |▎                               | 10kB 22.2MB/s eta 0:00:01\r\u001b[K     |▋                               | 20kB 23.0MB/s eta 0:00:01\r\u001b[K     |█                               | 30kB 17.9MB/s eta 0:00:01\r\u001b[K     |█▎                              | 40kB 14.8MB/s eta 0:00:01\r\u001b[K     |█▋                              | 51kB 12.2MB/s eta 0:00:01\r\u001b[K     |██                              | 61kB 11.1MB/s eta 0:00:01\r\u001b[K     |██▎                             | 71kB 10.5MB/s eta 0:00:01\r\u001b[K     |██▋                             | 81kB 11.3MB/s eta 0:00:01\r\u001b[K     |██▉                             | 92kB 11.6MB/s eta 0:00:01\r\u001b[K     |███▏                            | 102kB 11.1MB/s eta 0:00:01\r\u001b[K     |███▌                            | 112kB 11.1MB/s eta 0:00:01\r\u001b[K     |███▉                            | 122kB 11.1MB/s eta 0:00:01\r\u001b[K     |████▏                           | 133kB 11.1MB/s eta 0:00:01\r\u001b[K     |████▌                           | 143kB 11.1MB/s eta 0:00:01\r\u001b[K     |████▉                           | 153kB 11.1MB/s eta 0:00:01\r\u001b[K     |█████▏                          | 163kB 11.1MB/s eta 0:00:01\r\u001b[K     |█████▍                          | 174kB 11.1MB/s eta 0:00:01\r\u001b[K     |█████▊                          | 184kB 11.1MB/s eta 0:00:01\r\u001b[K     |██████                          | 194kB 11.1MB/s eta 0:00:01\r\u001b[K     |██████▍                         | 204kB 11.1MB/s eta 0:00:01\r\u001b[K     |██████▊                         | 215kB 11.1MB/s eta 0:00:01\r\u001b[K     |███████                         | 225kB 11.1MB/s eta 0:00:01\r\u001b[K     |███████▍                        | 235kB 11.1MB/s eta 0:00:01\r\u001b[K     |███████▊                        | 245kB 11.1MB/s eta 0:00:01\r\u001b[K     |████████                        | 256kB 11.1MB/s eta 0:00:01\r\u001b[K     |████████▎                       | 266kB 11.1MB/s eta 0:00:01\r\u001b[K     |████████▋                       | 276kB 11.1MB/s eta 0:00:01\r\u001b[K     |█████████                       | 286kB 11.1MB/s eta 0:00:01\r\u001b[K     |█████████▎                      | 296kB 11.1MB/s eta 0:00:01\r\u001b[K     |█████████▋                      | 307kB 11.1MB/s eta 0:00:01\r\u001b[K     |██████████                      | 317kB 11.1MB/s eta 0:00:01\r\u001b[K     |██████████▎                     | 327kB 11.1MB/s eta 0:00:01\r\u001b[K     |██████████▋                     | 337kB 11.1MB/s eta 0:00:01\r\u001b[K     |██████████▉                     | 348kB 11.1MB/s eta 0:00:01\r\u001b[K     |███████████▏                    | 358kB 11.1MB/s eta 0:00:01\r\u001b[K     |███████████▌                    | 368kB 11.1MB/s eta 0:00:01\r\u001b[K     |███████████▉                    | 378kB 11.1MB/s eta 0:00:01\r\u001b[K     |████████████▏                   | 389kB 11.1MB/s eta 0:00:01\r\u001b[K     |████████████▌                   | 399kB 11.1MB/s eta 0:00:01\r\u001b[K     |████████████▉                   | 409kB 11.1MB/s eta 0:00:01\r\u001b[K     |█████████████▏                  | 419kB 11.1MB/s eta 0:00:01\r\u001b[K     |█████████████▌                  | 430kB 11.1MB/s eta 0:00:01\r\u001b[K     |█████████████▊                  | 440kB 11.1MB/s eta 0:00:01\r\u001b[K     |██████████████                  | 450kB 11.1MB/s eta 0:00:01\r\u001b[K     |██████████████▍                 | 460kB 11.1MB/s eta 0:00:01\r\u001b[K     |██████████████▊                 | 471kB 11.1MB/s eta 0:00:01\r\u001b[K     |███████████████                 | 481kB 11.1MB/s eta 0:00:01\r\u001b[K     |███████████████▍                | 491kB 11.1MB/s eta 0:00:01\r\u001b[K     |███████████████▊                | 501kB 11.1MB/s eta 0:00:01\r\u001b[K     |████████████████                | 512kB 11.1MB/s eta 0:00:01\r\u001b[K     |████████████████▎               | 522kB 11.1MB/s eta 0:00:01\r\u001b[K     |████████████████▋               | 532kB 11.1MB/s eta 0:00:01\r\u001b[K     |█████████████████               | 542kB 11.1MB/s eta 0:00:01\r\u001b[K     |█████████████████▎              | 552kB 11.1MB/s eta 0:00:01\r\u001b[K     |█████████████████▋              | 563kB 11.1MB/s eta 0:00:01\r\u001b[K     |██████████████████              | 573kB 11.1MB/s eta 0:00:01\r\u001b[K     |██████████████████▎             | 583kB 11.1MB/s eta 0:00:01\r\u001b[K     |██████████████████▋             | 593kB 11.1MB/s eta 0:00:01\r\u001b[K     |███████████████████             | 604kB 11.1MB/s eta 0:00:01\r\u001b[K     |███████████████████▏            | 614kB 11.1MB/s eta 0:00:01\r\u001b[K     |███████████████████▌            | 624kB 11.1MB/s eta 0:00:01\r\u001b[K     |███████████████████▉            | 634kB 11.1MB/s eta 0:00:01\r\u001b[K     |████████████████████▏           | 645kB 11.1MB/s eta 0:00:01\r\u001b[K     |████████████████████▌           | 655kB 11.1MB/s eta 0:00:01\r\u001b[K     |████████████████████▉           | 665kB 11.1MB/s eta 0:00:01\r\u001b[K     |█████████████████████▏          | 675kB 11.1MB/s eta 0:00:01\r\u001b[K     |█████████████████████▌          | 686kB 11.1MB/s eta 0:00:01\r\u001b[K     |█████████████████████▊          | 696kB 11.1MB/s eta 0:00:01\r\u001b[K     |██████████████████████          | 706kB 11.1MB/s eta 0:00:01\r\u001b[K     |██████████████████████▍         | 716kB 11.1MB/s eta 0:00:01\r\u001b[K     |██████████████████████▊         | 727kB 11.1MB/s eta 0:00:01\r\u001b[K     |███████████████████████         | 737kB 11.1MB/s eta 0:00:01\r\u001b[K     |███████████████████████▍        | 747kB 11.1MB/s eta 0:00:01\r\u001b[K     |███████████████████████▊        | 757kB 11.1MB/s eta 0:00:01\r\u001b[K     |████████████████████████        | 768kB 11.1MB/s eta 0:00:01\r\u001b[K     |████████████████████████▍       | 778kB 11.1MB/s eta 0:00:01\r\u001b[K     |████████████████████████▋       | 788kB 11.1MB/s eta 0:00:01\r\u001b[K     |█████████████████████████       | 798kB 11.1MB/s eta 0:00:01\r\u001b[K     |█████████████████████████▎      | 808kB 11.1MB/s eta 0:00:01\r\u001b[K     |█████████████████████████▋      | 819kB 11.1MB/s eta 0:00:01\r\u001b[K     |██████████████████████████      | 829kB 11.1MB/s eta 0:00:01\r\u001b[K     |██████████████████████████▎     | 839kB 11.1MB/s eta 0:00:01\r\u001b[K     |██████████████████████████▋     | 849kB 11.1MB/s eta 0:00:01\r\u001b[K     |███████████████████████████     | 860kB 11.1MB/s eta 0:00:01\r\u001b[K     |███████████████████████████▏    | 870kB 11.1MB/s eta 0:00:01\r\u001b[K     |███████████████████████████▌    | 880kB 11.1MB/s eta 0:00:01\r\u001b[K     |███████████████████████████▉    | 890kB 11.1MB/s eta 0:00:01\r\u001b[K     |████████████████████████████▏   | 901kB 11.1MB/s eta 0:00:01\r\u001b[K     |████████████████████████████▌   | 911kB 11.1MB/s eta 0:00:01\r\u001b[K     |████████████████████████████▉   | 921kB 11.1MB/s eta 0:00:01\r\u001b[K     |█████████████████████████████▏  | 931kB 11.1MB/s eta 0:00:01\r\u001b[K     |█████████████████████████████▌  | 942kB 11.1MB/s eta 0:00:01\r\u001b[K     |█████████████████████████████▉  | 952kB 11.1MB/s eta 0:00:01\r\u001b[K     |██████████████████████████████  | 962kB 11.1MB/s eta 0:00:01\r\u001b[K     |██████████████████████████████▍ | 972kB 11.1MB/s eta 0:00:01\r\u001b[K     |██████████████████████████████▊ | 983kB 11.1MB/s eta 0:00:01\r\u001b[K     |███████████████████████████████ | 993kB 11.1MB/s eta 0:00:01\r\u001b[K     |███████████████████████████████▍| 1.0MB 11.1MB/s eta 0:00:01\r\u001b[K     |███████████████████████████████▊| 1.0MB 11.1MB/s eta 0:00:01\r\u001b[K     |████████████████████████████████| 1.0MB 11.1MB/s \n",
            "\u001b[?25h  Building wheel for tensorflow-docs (setup.py) ... \u001b[?25l\u001b[?25hdone\n"
          ],
          "name": "stdout"
        }
      ]
    },
    {
      "cell_type": "code",
      "metadata": {
        "id": "w90wkg9oeLr1"
      },
      "source": [
        "import tensorflow as tf\n",
        "import glob\n",
        "import imageio\n",
        "import matplotlib.pyplot as plt\n",
        "import numpy as np\n",
        "import os\n",
        "import PIL\n",
        "from tensorflow.keras import layers\n",
        "import time\n",
        "\n",
        "from IPython import display"
      ],
      "execution_count": null,
      "outputs": []
    },
    {
      "cell_type": "code",
      "metadata": {
        "id": "wZgALxL8eRkw",
        "colab": {
          "base_uri": "https://localhost:8080/"
        },
        "outputId": "a3cdc1a2-becd-4375-d83f-e45148b1a01e"
      },
      "source": [
        "(train_images, train_labels), (_, _) = tf.keras.datasets.mnist.load_data()"
      ],
      "execution_count": null,
      "outputs": [
        {
          "output_type": "stream",
          "text": [
            "Downloading data from https://storage.googleapis.com/tensorflow/tf-keras-datasets/mnist.npz\n",
            "11493376/11490434 [==============================] - 0s 0us/step\n"
          ],
          "name": "stdout"
        }
      ]
    },
    {
      "cell_type": "code",
      "metadata": {
        "id": "liiFOCGseXhn"
      },
      "source": [
        "train_images = train_images.reshape(train_images.shape[0], 28, 28, 1).astype('float32')\n",
        "train_images = (train_images - 127.5) / 127.5  # Normalize the images to [-1, 1]"
      ],
      "execution_count": null,
      "outputs": []
    },
    {
      "cell_type": "code",
      "metadata": {
        "id": "e4vfTSfOeden"
      },
      "source": [
        "BUFFER_SIZE = 60000\n",
        "BATCH_SIZE = 256"
      ],
      "execution_count": null,
      "outputs": []
    },
    {
      "cell_type": "code",
      "metadata": {
        "id": "MC54EM3seewN"
      },
      "source": [
        "train_dataset = tf.data.Dataset.from_tensor_slices(train_images).shuffle(BUFFER_SIZE).batch(BATCH_SIZE)"
      ],
      "execution_count": null,
      "outputs": []
    },
    {
      "cell_type": "code",
      "metadata": {
        "id": "CjjkW24legIC"
      },
      "source": [
        "def make_generator_model():\n",
        "    model = tf.keras.Sequential()\n",
        "    model.add(layers.Dense(7*7*256, use_bias=False, input_shape=(100,)))\n",
        "    model.add(layers.BatchNormalization())\n",
        "    model.add(layers.LeakyReLU())\n",
        "\n",
        "    model.add(layers.Reshape((7, 7, 256)))\n",
        "    assert model.output_shape == (None, 7, 7, 256)  # Note: None is the batch size\n",
        "\n",
        "    model.add(layers.Conv2DTranspose(128, (5, 5), strides=(1, 1), padding='same', use_bias=False))\n",
        "    assert model.output_shape == (None, 7, 7, 128)\n",
        "    model.add(layers.BatchNormalization())\n",
        "    model.add(layers.LeakyReLU())\n",
        "\n",
        "    model.add(layers.Conv2DTranspose(64, (5, 5), strides=(2, 2), padding='same', use_bias=False))\n",
        "    assert model.output_shape == (None, 14, 14, 64)\n",
        "    model.add(layers.BatchNormalization())\n",
        "    model.add(layers.LeakyReLU())\n",
        "\n",
        "    model.add(layers.Conv2DTranspose(1, (5, 5), strides=(2, 2), padding='same', use_bias=False, activation='tanh'))\n",
        "    assert model.output_shape == (None, 28, 28, 1)\n",
        "\n",
        "    return model"
      ],
      "execution_count": null,
      "outputs": []
    },
    {
      "cell_type": "code",
      "metadata": {
        "colab": {
          "base_uri": "https://localhost:8080/",
          "height": 282
        },
        "id": "QhGNDY6GekOd",
        "outputId": "c8147f10-dc0e-44a8-8f0a-599df94dad6f"
      },
      "source": [
        "generator = make_generator_model()\n",
        "\n",
        "noise = tf.random.normal([1, 100])\n",
        "generated_image = generator(noise, training=False)\n",
        "\n",
        "plt.imshow(generated_image[0, :, :, 0], cmap='gray')"
      ],
      "execution_count": null,
      "outputs": [
        {
          "output_type": "execute_result",
          "data": {
            "text/plain": [
              "<matplotlib.image.AxesImage at 0x7ff930241110>"
            ]
          },
          "metadata": {
            "tags": []
          },
          "execution_count": 10
        },
        {
          "output_type": "display_data",
          "data": {
            "image/png": "[encoded data removed]",
            "text/plain": [
              "<Figure size 432x288 with 1 Axes>"
            ]
          },
          "metadata": {
            "tags": [],
            "needs_background": "light"
          }
        }
      ]
    },
    {
      "cell_type": "code",
      "metadata": {
        "id": "FESUFfAFelpv"
      },
      "source": [
        "def make_discriminator_model():\n",
        "    model = tf.keras.Sequential()\n",
        "    model.add(layers.Conv2D(64, (5, 5), strides=(2, 2), padding='same',\n",
        "                                     input_shape=[28, 28, 1]))\n",
        "    model.add(layers.LeakyReLU())\n",
        "    model.add(layers.Dropout(0.3))\n",
        "\n",
        "    model.add(layers.Conv2D(128, (5, 5), strides=(2, 2), padding='same'))\n",
        "    model.add(layers.LeakyReLU())\n",
        "    model.add(layers.Dropout(0.3))\n",
        "\n",
        "    model.add(layers.Flatten())\n",
        "    model.add(layers.Dense(1))\n",
        "\n",
        "    return model"
      ],
      "execution_count": null,
      "outputs": []
    },
    {
      "cell_type": "code",
      "metadata": {
        "colab": {
          "base_uri": "https://localhost:8080/"
        },
        "id": "Yt76sErmexFX",
        "outputId": "e696f2f3-c2e0-460e-f96b-ff2bd9a1f165"
      },
      "source": [
        "discriminator = make_discriminator_model()\n",
        "decision = discriminator(generated_image)\n",
        "print (decision)"
      ],
      "execution_count": null,
      "outputs": [
        {
          "output_type": "stream",
          "text": [
            "tf.Tensor([[0.00066198]], shape=(1, 1), dtype=float32)\n"
          ],
          "name": "stdout"
        }
      ]
    },
    {
      "cell_type": "code",
      "metadata": {
        "id": "fHUUkRmdeyb4"
      },
      "source": [
        "cross_entropy = tf.keras.losses.BinaryCrossentropy(from_logits=True)"
      ],
      "execution_count": null,
      "outputs": []
    },
    {
      "cell_type": "code",
      "metadata": {
        "id": "BtuCX66Me1I9"
      },
      "source": [
        "def discriminator_loss(real_output, fake_output):\n",
        "    real_loss = cross_entropy(tf.ones_like(real_output), real_output)\n",
        "    fake_loss = cross_entropy(tf.zeros_like(fake_output), fake_output)\n",
        "    total_loss = real_loss + fake_loss\n",
        "    return total_loss"
      ],
      "execution_count": null,
      "outputs": []
    },
    {
      "cell_type": "code",
      "metadata": {
        "id": "jE238Zv_e2if"
      },
      "source": [
        "def generator_loss(fake_output):\n",
        "    return cross_entropy(tf.ones_like(fake_output), fake_output)"
      ],
      "execution_count": null,
      "outputs": []
    },
    {
      "cell_type": "code",
      "metadata": {
        "id": "UTJgBQ7fe4QI"
      },
      "source": [
        "generator_optimizer = tf.keras.optimizers.Adam(1e-4)\n",
        "discriminator_optimizer = tf.keras.optimizers.Adam(1e-4)"
      ],
      "execution_count": null,
      "outputs": []
    },
    {
      "cell_type": "code",
      "metadata": {
        "id": "QZkHrcmZe5bL"
      },
      "source": [
        "checkpoint_dir = './training_checkpoints'\n",
        "checkpoint_prefix = os.path.join(checkpoint_dir, \"ckpt\")\n",
        "checkpoint = tf.train.Checkpoint(generator_optimizer=generator_optimizer,\n",
        "                                 discriminator_optimizer=discriminator_optimizer,\n",
        "                                 generator=generator,\n",
        "                                 discriminator=discriminator)"
      ],
      "execution_count": null,
      "outputs": []
    },
    {
      "cell_type": "code",
      "metadata": {
        "id": "1hPMPNbxe7Fs"
      },
      "source": [
        "EPOCHS = 100\n",
        "noise_dim = 100\n",
        "num_examples_to_generate = 16\n",
        "\n",
        "seed = tf.random.normal([num_examples_to_generate, noise_dim])"
      ],
      "execution_count": null,
      "outputs": []
    },
    {
      "cell_type": "code",
      "metadata": {
        "id": "my5lEM7fe8kh"
      },
      "source": [
        "\n",
        "@tf.function\n",
        "def train_step(images):\n",
        "    noise = tf.random.normal([BATCH_SIZE, noise_dim])\n",
        "\n",
        "    with tf.GradientTape() as gen_tape, tf.GradientTape() as disc_tape:\n",
        "      generated_images = generator(noise, training=True)\n",
        "\n",
        "      real_output = discriminator(images, training=True)\n",
        "      fake_output = discriminator(generated_images, training=True)\n",
        "\n",
        "      gen_loss = generator_loss(fake_output)\n",
        "      disc_loss = discriminator_loss(real_output, fake_output)\n",
        "\n",
        "    gradients_of_generator = gen_tape.gradient(gen_loss, generator.trainable_variables)\n",
        "    gradients_of_discriminator = disc_tape.gradient(disc_loss, discriminator.trainable_variables)\n",
        "\n",
        "    generator_optimizer.apply_gradients(zip(gradients_of_generator, generator.trainable_variables))\n",
        "    discriminator_optimizer.apply_gradients(zip(gradients_of_discriminator, discriminator.trainable_variables))"
      ],
      "execution_count": null,
      "outputs": []
    },
    {
      "cell_type": "code",
      "metadata": {
        "id": "XmTy4vc5e-vC"
      },
      "source": [
        "def train(dataset, epochs):\n",
        "  for epoch in range(epochs):\n",
        "    start = time.time()\n",
        "\n",
        "    for image_batch in dataset:\n",
        "      train_step(image_batch)\n",
        "\n",
        "    display.clear_output(wait=True)\n",
        "    generate_and_save_images(generator,\n",
        "                             epoch + 1,\n",
        "                             seed)\n",
        "\n",
        "    if (epoch + 1) % 15 == 0:\n",
        "      checkpoint.save(file_prefix = checkpoint_prefix)\n",
        "\n",
        "    print ('Time for epoch {} is {} sec'.format(epoch + 1, time.time()-start))\n",
        "\n",
        "  display.clear_output(wait=True)\n",
        "  generate_and_save_images(generator,\n",
        "                           epochs,\n",
        "                           seed)"
      ],
      "execution_count": null,
      "outputs": []
    },
    {
      "cell_type": "code",
      "metadata": {
        "id": "N5nvqtAifAZl"
      },
      "source": [
        "def generate_and_save_images(model, epoch, test_input):\n",
        "\n",
        "  predictions = model(test_input, training=False)\n",
        "\n",
        "  fig = plt.figure(figsize=(4, 4))\n",
        "\n",
        "  for i in range(predictions.shape[0]):\n",
        "      plt.subplot(4, 4, i+1)\n",
        "      plt.imshow(predictions[i, :, :, 0] * 127.5 + 127.5, cmap='gray')\n",
        "      plt.axis('off')\n",
        "\n",
        "  plt.savefig('image_at_epoch_{:04d}.png'.format(epoch))\n",
        "  plt.show()"
      ],
      "execution_count": null,
      "outputs": []
    },
    {
      "cell_type": "code",
      "metadata": {
        "colab": {
          "base_uri": "https://localhost:8080/",
          "height": 265
        },
        "id": "DPMoxoPHfCkF",
        "outputId": "345d0ec6-0b9e-477b-c3f3-f29b97432d63"
      },
      "source": [
        "train(train_dataset, EPOCHS)"
      ],
      "execution_count": null,
      "outputs": [
        {
          "output_type": "display_data",
          "data": {
            "image/png": "[encoded data removed]",
            "text/plain": [
              "<Figure size 288x288 with 16 Axes>"
            ]
          },
          "metadata": {
            "tags": [],
            "needs_background": "light"
          }
        },
        {
          "output_type": "stream",
          "text": [
            "Time for epoch 45 is 26.999429941177368 sec\n"
          ],
          "name": "stdout"
        }
      ]
    },
    {
      "cell_type": "code",
      "metadata": {
        "id": "xNUB-GLOfDu4"
      },
      "source": [
        "def display_image(epoch_no):\n",
        "  return PIL.Image.open('image_at_epoch_{:04d}.png'.format(epoch_no))"
      ],
      "execution_count": null,
      "outputs": []
    },
    {
      "cell_type": "code",
      "metadata": {
        "id": "fghb3pNNfF3s"
      },
      "source": [
        "display_image(EPOCHS)"
      ],
      "execution_count": null,
      "outputs": []
    },
    {
      "cell_type": "code",
      "metadata": {
        "id": "BwsJQ6CBqyO1"
      },
      "source": [
        "anim_file = 'dcgan.gif'\n",
        "\n",
        "with imageio.get_writer(anim_file, mode='I') as writer:\n",
        "  filenames = glob.glob('image*.png')\n",
        "  filenames = sorted(filenames)\n",
        "  for filename in filenames:\n",
        "    image = imageio.imread(filename)\n",
        "    writer.append_data(image)\n",
        "  image = imageio.imread(filename)"
      ],
      "execution_count": null,
      "outputs": []
    },
    {
      "cell_type": "code",
      "metadata": {
        "id": "9LsvSl8yh_Ip"
      },
      "source": [
        "import tensorflow_docs.vis.embed as embed\n",
        "embed.embed_file(anim_file)"
      ],
      "execution_count": null,
      "outputs": []
    },
    {
      "cell_type": "code",
      "metadata": {
        "id": "yFXmigNTiAif"
      },
      "source": [
        ""
      ],
      "execution_count": null,
      "outputs": []
    }
  ]
}